{
 "cells": [
  {
   "cell_type": "code",
   "execution_count": 48,
   "metadata": {},
   "outputs": [],
   "source": [
    "import pandas as pd\n",
    "import os\n",
    "import nltk\n",
    "names = pd.read_excel('African Names.xlsx')\n",
    "names = names[['Name',\"Gender\"]]"
   ]
  },
  {
   "cell_type": "code",
   "execution_count": 49,
   "metadata": {},
   "outputs": [
    {
     "data": {
      "text/html": [
       "<div>\n",
       "<style scoped>\n",
       "    .dataframe tbody tr th:only-of-type {\n",
       "        vertical-align: middle;\n",
       "    }\n",
       "\n",
       "    .dataframe tbody tr th {\n",
       "        vertical-align: top;\n",
       "    }\n",
       "\n",
       "    .dataframe thead th {\n",
       "        text-align: right;\n",
       "    }\n",
       "</style>\n",
       "<table border=\"1\" class=\"dataframe\">\n",
       "  <thead>\n",
       "    <tr style=\"text-align: right;\">\n",
       "      <th></th>\n",
       "      <th>Name</th>\n",
       "      <th>Gender</th>\n",
       "    </tr>\n",
       "  </thead>\n",
       "  <tbody>\n",
       "    <tr>\n",
       "      <th>0</th>\n",
       "      <td>kamau</td>\n",
       "      <td>male</td>\n",
       "    </tr>\n",
       "    <tr>\n",
       "      <th>1</th>\n",
       "      <td>gatang'i</td>\n",
       "      <td>male</td>\n",
       "    </tr>\n",
       "    <tr>\n",
       "      <th>2</th>\n",
       "      <td>karanja</td>\n",
       "      <td>male</td>\n",
       "    </tr>\n",
       "    <tr>\n",
       "      <th>3</th>\n",
       "      <td>Absko</td>\n",
       "      <td>Boy</td>\n",
       "    </tr>\n",
       "    <tr>\n",
       "      <th>4</th>\n",
       "      <td>Abuya</td>\n",
       "      <td>Girl</td>\n",
       "    </tr>\n",
       "  </tbody>\n",
       "</table>\n",
       "</div>"
      ],
      "text/plain": [
       "       Name Gender\n",
       "0     kamau   male\n",
       "1  gatang'i   male\n",
       "2   karanja   male\n",
       "3     Absko    Boy\n",
       "4     Abuya   Girl"
      ]
     },
     "execution_count": 49,
     "metadata": {},
     "output_type": "execute_result"
    }
   ],
   "source": [
    "names.head()\n",
    "names.shape\n",
    "names =names.dropna()\n",
    "names.isnull().sum()\n",
    "names.head()"
   ]
  },
  {
   "cell_type": "code",
   "execution_count": 50,
   "metadata": {},
   "outputs": [
    {
     "name": "stdout",
     "output_type": "stream",
     "text": [
      "(7944, 2)\n"
     ]
    },
    {
     "data": {
      "text/html": [
       "<div>\n",
       "<style scoped>\n",
       "    .dataframe tbody tr th:only-of-type {\n",
       "        vertical-align: middle;\n",
       "    }\n",
       "\n",
       "    .dataframe tbody tr th {\n",
       "        vertical-align: top;\n",
       "    }\n",
       "\n",
       "    .dataframe thead th {\n",
       "        text-align: right;\n",
       "    }\n",
       "</style>\n",
       "<table border=\"1\" class=\"dataframe\">\n",
       "  <thead>\n",
       "    <tr style=\"text-align: right;\">\n",
       "      <th></th>\n",
       "      <th>Name</th>\n",
       "      <th>Gender</th>\n",
       "    </tr>\n",
       "  </thead>\n",
       "  <tbody>\n",
       "    <tr>\n",
       "      <th>0</th>\n",
       "      <td>Maurice</td>\n",
       "      <td>male</td>\n",
       "    </tr>\n",
       "    <tr>\n",
       "      <th>1</th>\n",
       "      <td>Nadya</td>\n",
       "      <td>Female</td>\n",
       "    </tr>\n",
       "    <tr>\n",
       "      <th>2</th>\n",
       "      <td>Charlie</td>\n",
       "      <td>male</td>\n",
       "    </tr>\n",
       "    <tr>\n",
       "      <th>3</th>\n",
       "      <td>Cherida</td>\n",
       "      <td>Female</td>\n",
       "    </tr>\n",
       "    <tr>\n",
       "      <th>4</th>\n",
       "      <td>Henrieta</td>\n",
       "      <td>Female</td>\n",
       "    </tr>\n",
       "  </tbody>\n",
       "</table>\n",
       "</div>"
      ],
      "text/plain": [
       "       Name  Gender\n",
       "0   Maurice    male\n",
       "1     Nadya  Female\n",
       "2   Charlie    male\n",
       "3   Cherida  Female\n",
       "4  Henrieta  Female"
      ]
     },
     "execution_count": 50,
     "metadata": {},
     "output_type": "execute_result"
    }
   ],
   "source": [
    "#Names = [(name, 'male') for name in nltk.corpus.names.words(\"male.txt\")]\n",
    "#Names += [(name, 'female') for name in nltk.corpus.names.words(\"female.txt\")]\n",
    "NameS = [(i,\"male\") for i in nltk.corpus.names.words(\"male.txt\")]+[(i,\"Female\") for i in nltk.corpus.names.words(\"female.txt\")]\n",
    "import random\n",
    "random.shuffle(NameS)\n",
    "df =pd.DataFrame(NameS,columns =[\"Name\",\"Gender\"])\n",
    "print(df.shape)\n",
    "df.to_csv('English_Names.csv')\n",
    "df.head()"
   ]
  },
  {
   "cell_type": "code",
   "execution_count": 51,
   "metadata": {},
   "outputs": [
    {
     "data": {
      "image/png": "[encoded data removed]",
      "text/plain": [
       "<Figure size 1440x360 with 1 Axes>"
      ]
     },
     "metadata": {
      "needs_background": "light"
     },
     "output_type": "display_data"
    }
   ],
   "source": [
    "#some Analysisand data cleaning\n",
    "names[\"Gender\"]=[str(i).lower() for i in names.Gender]\n",
    "names[\"Gender\"]=[\"male\" if i ==\"mae\" or i==\"boy\" else \"female\" if i ==\"girl\" else i for i in names.Gender]\n",
    "names[\"Name\"] = [str(i).lower() for i in names.Name]\n",
    "names =names.dropna()\n",
    "\n",
    "#split the names into letters to show the distribution\n",
    "x = []\n",
    "for i in names[\"Name\"]:\n",
    "    for j in i:\n",
    "        x.append(j)\n",
    "from nltk.probability import FreqDist\n",
    "import matplotlib.pyplot as plt\n",
    "Y =FreqDist(x)\n",
    "plt.figure(figsize = (20,5))\n",
    "Y.plot(100)\n",
    "plt.show()"
   ]
  },
  {
   "cell_type": "code",
   "execution_count": 52,
   "metadata": {},
   "outputs": [
    {
     "data": {
      "image/png": "[encoded data removed]",
      "text/plain": [
       "<Figure size 432x288 with 1 Axes>"
      ]
     },
     "metadata": {
      "needs_background": "light"
     },
     "output_type": "display_data"
    },
    {
     "data": {
      "image/png": "[encoded data removed]",
      "text/plain": [
       "<Figure size 432x288 with 1 Axes>"
      ]
     },
     "metadata": {
      "needs_background": "light"
     },
     "output_type": "display_data"
    },
    {
     "data": {
      "image/png": "[encoded data removed]",
      "text/plain": [
       "<Figure size 1440x360 with 1 Axes>"
      ]
     },
     "metadata": {
      "needs_background": "light"
     },
     "output_type": "display_data"
    },
    {
     "data": {
      "image/png": "[encoded data removed]",
      "text/plain": [
       "<Figure size 1440x360 with 1 Axes>"
      ]
     },
     "metadata": {
      "needs_background": "light"
     },
     "output_type": "display_data"
    }
   ],
   "source": [
    "\n",
    "from collections import Counter\n",
    "\n",
    "#some Analysis\n",
    "B = [i[0] for i in names.Name ]\n",
    "B =Counter(B)\n",
    "B =dict(B.most_common(15))\n",
    "plt.barh(list(B.keys()),list(B.values()),color=\"turquoise\")\n",
    "plt.title(\"distribution of first letters in the Name dataset\")\n",
    "plt.show()\n",
    "\n",
    "B = [i[-1] for i in names.Name ]\n",
    "B =Counter(B)\n",
    "B =dict(B.most_common(15))\n",
    "plt.barh(list(B.keys()),list(B.values()),color=\"red\")\n",
    "plt.title(\"distribution of Last letters in the Name dataset\")\n",
    "plt.show()\n",
    "\n",
    "#Prefix (2)\n",
    "plt.figure(figsize =(20,5))\n",
    "B = [i[:2] for i in names.Name ]\n",
    "B =Counter(B)\n",
    "B =dict(B.most_common(40))\n",
    "plt.bar(list(B.keys()),list(B.values()),color=\"green\")\n",
    "plt.title(\"distribution of first two letters in the Name dataset\")\n",
    "plt.show()\n",
    "\n",
    "#Sufix start\n",
    "plt.figure(figsize =(20,5))\n",
    "B = [i[-2:] for i in names.Name ]\n",
    "B =Counter(B)\n",
    "B =dict(B.most_common(40))\n",
    "plt.bar(list(B.keys()),list(B.values()),color=\"purple\")\n",
    "plt.title(\"distribution of last two letters in the Name dataset\")\n",
    "plt.show()\n"
   ]
  },
  {
   "cell_type": "code",
   "execution_count": 53,
   "metadata": {},
   "outputs": [
    {
     "name": "stdout",
     "output_type": "stream",
     "text": [
      "trainData accuracy= 0.9841269841269841\n",
      "testData accuracy= 0.7291666666666666\n",
      "Most Informative Features\n",
      "                 suffix6 = 'a'            female : male   =     16.0 : 1.0\n",
      "                  prefix = 'a'            female : male   =     11.0 : 1.0\n",
      "                 prefix2 = 'ki'             male : female =      7.1 : 1.0\n",
      "                 prefix3 = 'wan'          female : male   =      5.8 : 1.0\n",
      "                 suffix3 = 'era'          female : male   =      4.2 : 1.0\n",
      "                  prefix = 'k'              male : female =      3.9 : 1.0\n",
      "                 prefix2 = 'ka'             male : female =      3.7 : 1.0\n",
      "                 prefix2 = 'al'           female : male   =      3.5 : 1.0\n",
      "                 prefix2 = 'wa'           female : male   =      3.1 : 1.0\n",
      "                  prefix = 'w'            female : male   =      3.0 : 1.0\n",
      "                 prefix3 = 'mur'            male : female =      2.8 : 1.0\n",
      "                  suffix = 'e'              male : female =      2.8 : 1.0\n",
      "                 suffix3 = 'nga'            male : female =      2.8 : 1.0\n",
      "                 suffix3 = 'uku'            male : female =      2.8 : 1.0\n",
      "                 prefix2 = 'mw'             male : female =      2.8 : 1.0\n",
      "                 prefix4 = 'mutu'           male : female =      2.7 : 1.0\n",
      "                 prefix3 = 'nya'          female : male   =      2.5 : 1.0\n",
      "                 suffix2 = 'ch'           female : male   =      2.5 : 1.0\n",
      "                 prefix2 = 'ny'           female : male   =      2.4 : 1.0\n",
      "                  prefix = 'm'              male : female =      2.2 : 1.0\n",
      "                  prefix = 'c'              male : female =      2.2 : 1.0\n",
      "                 prefix2 = 'ch'             male : female =      2.1 : 1.0\n",
      "                 prefix2 = 'nz'             male : female =      2.1 : 1.0\n",
      "                 suffix2 = 'ki'             male : female =      2.0 : 1.0\n",
      "                 suffix2 = 'ko'             male : female =      2.0 : 1.0\n"
     ]
    }
   ],
   "source": [
    "def extract_gender_features(name):\n",
    "    \"\"\"Takes a name and returns a list with features based on these names\"\"\"\n",
    "    name = name.lower()\n",
    "    features = {}\n",
    "    features[\"suffix\"] = name[-1:]\n",
    "    features[\"suffix2\"] = name[-2:] if len(name) > 1 else name[0]\n",
    "    features[\"suffix3\"] = name[-3:] if len(name) > 2 else name[0]\n",
    "    #features[\"suffix4\"] = name[-4:] if len(name) > 3 else name[0]\n",
    "    #features[\"suffix5\"] = name[-5:] if len(name) > 4 else name[0]\n",
    "    features[\"suffix6\"] = name[-6:] if len(name) > 5 else name[0]\n",
    "    features[\"prefix\"] = name[:1]\n",
    "    features[\"prefix2\"] = name[:2] if len(name) > 1 else name[0]\n",
    "    features[\"prefix3\"] = name[:3] if len(name) > 2 else name[0]\n",
    "    features[\"prefix4\"] = name[:4] if len(name) > 3 else name[0]\n",
    "    features[\"prefix5\"] = name[:5] if len(name) > 4 else name[0]\n",
    "    features[\"wordLen\"] = len(name)\n",
    "    \n",
    "    #for letter in \"abcdefghijklmnopqrstuvwyxz\":\n",
    "    #    features[letter + \"-count\"] = name.count(letter)\n",
    "   \n",
    "    return features\n",
    "NAMES = [(i[0],i[1]) for i in zip(names.Name,names.Gender)]\n",
    "data = [(extract_gender_features(name), gender) for (name,gender) in NAMES]\n",
    "import random\n",
    "random.shuffle(data)\n",
    "dataCount = len(data)\n",
    "trainCount = int(.8*dataCount)\n",
    "\n",
    "trainData = data[:trainCount]\n",
    "testData = data[trainCount:]\n",
    "bayes = nltk.NaiveBayesClassifier.train(trainData)\n",
    "\n",
    "def classify(name):\n",
    "    \"\"\"classifys the gender based on a names features\"\"\"\n",
    "    label = bayes.classify(extract_gender_features(name))\n",
    "    print(\"name=\", name, \"classifed as=\", label)\n",
    "\n",
    "print(\"trainData accuracy=\", nltk.classify.accuracy(bayes, trainData))\n",
    "print(\"testData accuracy=\", nltk.classify.accuracy(bayes, testData))\n",
    "\n",
    "bayes.show_most_informative_features(25)\n",
    "#bayes."
   ]
  },
  {
   "cell_type": "code",
   "execution_count": 55,
   "metadata": {},
   "outputs": [
    {
     "name": "stdout",
     "output_type": "stream",
     "text": [
      "Kenyan Name       Predicted gender\n",
      "xxxxxxxxxxxxxxxxxxxxxxxxxxxxxxxxxxxxxxxxxxxxxxxxxx\n",
      "mumbi  :            female\n",
      "wanja  :            female\n",
      "kamau  :            male\n",
      "Onyango  :            female\n",
      "Nyambura  :            female\n",
      "Ngugi  :            male\n",
      "mwangi  :            male\n",
      "njau  :            male\n",
      "nekesa  :            male\n",
      "atieno  :            female\n"
     ]
    }
   ],
   "source": [
    "#Test the model on some African names\n",
    "names = [\"mumbi\",\"wanja\",\"kamau\",\"Onyango\",\"Nyambura\",\"Ngugi\",\"mwangi\",\"njau\",\"nekesa\",\"atieno\"]\n",
    "pred = [bayes.classify(extract_gender_features(name)) for name in names]\n",
    "print(\"Kenyan Name       Predicted gender\")\n",
    "print(\"x\" *50)\n",
    "for i in zip(names,pred):\n",
    "    print(i[0],\" :           \",i[1])\n",
    "    \n",
    "def namer(name):\n",
    "    \"takes a name,extracts features,classifies the name and returns a predicted gender and probability of prediction\"\n",
    "    B = bayes.prob_classify(extract_gender_features(name))\n",
    "    B1 =bayes.classify(extract_gender_features(name))\n",
    "    U=[B.prob(\"female\"),1-B.prob(\"female\")]\n",
    "    return (B1,max(U))\n"
   ]
  },
  {
   "cell_type": "code",
   "execution_count": 41,
   "metadata": {},
   "outputs": [
    {
     "name": "stdout",
     "output_type": "stream",
     "text": [
      "dict_keys(['female', 'male'])\n",
      "0.09072888468398366\n",
      "male\n"
     ]
    }
   ],
   "source": [
    "# test that the model can return the estimated gender but also a probability index of how likely the prediction is\n",
    "name =\"cheruto\"\n",
    "L = bayes.prob_classify(extract_gender_features(name))\n",
    "print(L.samples())\n",
    "print(L.prob(list(L.samples())[0]))\n",
    "print(bayes.classify(extract_gender_features(name)))\n",
    "\n",
    "    "
   ]
  },
  {
   "cell_type": "code",
   "execution_count": 56,
   "metadata": {},
   "outputs": [
    {
     "name": "stdout",
     "output_type": "stream",
     "text": [
      "trainData accuracy= 0.9277734067663257\n",
      "testData accuracy= 0.8445563247325362\n",
      "Most Informative Features\n",
      "                 suffix2 = 'na'           female : male   =     84.9 : 1.0\n",
      "                 suffix2 = 'ia'           female : male   =     47.5 : 1.0\n",
      "                  suffix = 'a'            female : male   =     39.7 : 1.0\n",
      "                 suffix2 = 'sa'           female : male   =     33.4 : 1.0\n",
      "                  suffix = 'k'              male : female =     28.2 : 1.0\n",
      "                 suffix2 = 'us'             male : female =     27.2 : 1.0\n",
      "                 suffix2 = 'do'             male : female =     25.5 : 1.0\n",
      "                 suffix3 = 'tta'          female : male   =     23.4 : 1.0\n",
      "                 suffix2 = 'ta'           female : male   =     22.6 : 1.0\n",
      "                 suffix3 = 'ana'          female : male   =     22.5 : 1.0\n",
      "                 suffix2 = 'ch'             male : female =     21.2 : 1.0\n",
      "                 suffix2 = 'rt'             male : female =     20.7 : 1.0\n",
      "                 suffix2 = 'ld'             male : female =     20.5 : 1.0\n",
      "                 prefix2 = 'hu'             male : female =     16.9 : 1.0\n",
      "                 prefix3 = 'ric'            male : female =     16.8 : 1.0\n",
      "                  suffix = 'v'              male : female =     16.0 : 1.0\n",
      "                 suffix2 = 'os'             male : female =     15.7 : 1.0\n",
      "                 suffix3 = 'old'            male : female =     15.7 : 1.0\n",
      "                 prefix3 = 'dor'          female : male   =     15.5 : 1.0\n",
      "                 prefix3 = 'rod'            male : female =     14.8 : 1.0\n",
      "                 suffix3 = 'ita'          female : male   =     14.1 : 1.0\n",
      "                 suffix2 = 'io'             male : female =     13.4 : 1.0\n",
      "                 suffix2 = 'ea'           female : male   =     13.3 : 1.0\n",
      "                  suffix = 'f'              male : female =     12.9 : 1.0\n",
      "                 suffix2 = 'ka'           female : male   =     12.1 : 1.0\n"
     ]
    },
    {
     "data": {
      "text/plain": [
       "('female', 0.9992012536368944)"
      ]
     },
     "execution_count": 56,
     "metadata": {},
     "output_type": "execute_result"
    }
   ],
   "source": [
    "Names = [(name, 'male') for name in nltk.corpus.names.words(\"male.txt\")]\n",
    "Names += [(name, 'female') for name in nltk.corpus.names.words(\"female.txt\")]\n",
    "\n",
    "data = [(extract_gender_features(name), gender) for (name,gender) in Names]\n",
    "\n",
    "import random\n",
    "random.shuffle(data)\n",
    "dataCount = len(data)\n",
    "trainCount = int(.8*dataCount)\n",
    "\n",
    "trainData = data[:trainCount]\n",
    "testData = data[trainCount:]\n",
    "bayes1 = nltk.NaiveBayesClassifier.train(trainData)\n",
    "\n",
    "def classify(name):\n",
    "    label = bayes1.classify(extract_gender_features(name))\n",
    "    print(\"name=\", name, \"classifed as=\", label)\n",
    "\n",
    "print(\"trainData accuracy=\", nltk.classify.accuracy(bayes1, trainData))\n",
    "print(\"testData accuracy=\", nltk.classify.accuracy(bayes1, testData))\n",
    "\n",
    "bayes1.show_most_informative_features(25)\n",
    "name =\"christine\"\n",
    "def namer1(name):\n",
    "    B = bayes1.prob_classify(extract_gender_features(name))\n",
    "    B1 =bayes1.classify(extract_gender_features(name))\n",
    "    U=[B.prob(\"female\"),1-B.prob(\"female\")]\n",
    "    return (B1,max(U))\n",
    "namer1(name)"
   ]
  },
  {
   "cell_type": "code",
   "execution_count": 57,
   "metadata": {},
   "outputs": [
    {
     "name": "stdout",
     "output_type": "stream",
     "text": [
      "English Name       Predicted gender\n",
      "xxxxxxxxxxxxxxxxxxxxxxxxxxxxxxxxxxxxxxxxxxxxxxxxxx\n",
      "Lauryn  :            female\n",
      "Matt  :            male\n",
      "Damon  :            male\n",
      "Peter  :            male\n",
      "darius  :            male\n",
      "jane  :            female\n",
      "mariah  :            female\n"
     ]
    }
   ],
   "source": [
    "#test the Engish Model\n",
    "names = [\"Lauryn\",\"Matt\",\"Damon\",\"Peter\",\"darius\",\"jane\",\"mariah\"]\n",
    "pred = [bayes1.classify(extract_gender_features(name)) for name in names]\n",
    "print(\"English Name       Predicted gender\")\n",
    "print(\"x\" *50)\n",
    "for i in zip(names,pred):\n",
    "    print(i[0],\" :           \",i[1])"
   ]
  },
  {
   "cell_type": "code",
   "execution_count": 58,
   "metadata": {},
   "outputs": [
    {
     "data": {
      "text/plain": [
       "'male'"
      ]
     },
     "execution_count": 58,
     "metadata": {},
     "output_type": "execute_result"
    }
   ],
   "source": [
    "#A bit of testing - test that each of the functions created above are working inside the chooser function\n",
    "name = \"thesymachus nyoori\"\n",
    "f1 =name.split()[0]\n",
    "f2 =name.split()[1]\n",
    "def chooser():\n",
    "    X =namer(f2)\n",
    "    Y =namer1(f1)\n",
    "    if X[1]>Y[1]:\n",
    "        return(X[0])\n",
    "    else:\n",
    "        return(Y[0])\n",
    "chooser()"
   ]
  },
  {
   "cell_type": "code",
   "execution_count": 59,
   "metadata": {},
   "outputs": [],
   "source": [
    "# save the models to be used in the Flask Demo using pickle\n",
    "import pickle\n",
    "filename = 'finalized_model_eng.sav'\n",
    "filename1 = 'finalized_model_afr.sav'\n",
    "pickle.dump(bayes1, open(filename, 'wb'))\n",
    "pickle.dump(bayes, open(filename1, 'wb'))\n",
    "bayes = pickle.load(open(filename, 'rb'))\n",
    "bayes1 =pickle.load(open(filename1, 'rb'))\n",
    "#loaded_model.classify(extract_gender_features(name.split()[0]))"
   ]
  },
  {
   "cell_type": "code",
   "execution_count": null,
   "metadata": {},
   "outputs": [],
   "source": []
  }
 ],
 "metadata": {
  "kernelspec": {
   "display_name": "Python 3",
   "language": "python",
   "name": "python3"
  },
  "language_info": {
   "codemirror_mode": {
    "name": "ipython",
    "version": 3
   },
   "file_extension": ".py",
   "mimetype": "text/x-python",
   "name": "python",
   "nbconvert_exporter": "python",
   "pygments_lexer": "ipython3",
   "version": "3.7.0"
  }
 },
 "nbformat": 4,
 "nbformat_minor": 2
}
